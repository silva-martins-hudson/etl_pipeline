{
  "nbformat": 4,
  "nbformat_minor": 0,
  "metadata": {
    "colab": {
      "name": "raizen_final.ipynb",
      "provenance": [],
      "collapsed_sections": []
    },
    "kernelspec": {
      "name": "python3",
      "display_name": "Python 3"
    }
  },
  "cells": [
    {
      "cell_type": "markdown",
      "metadata": {
        "id": "m7yURS0tdyIN",
        "colab_type": "text"
      },
      "source": [
        "**Leitura de arquivos - Dados da ANP**\n",
        "\n",
        "**Definição do problema:**\n",
        "Leitura de arquivos excel e estruturação dos dados\n",
        "\n",
        "**Metas**:\n",
        "Geração de duas tabelas\n",
        "1. Vendas de combustíveis derivados de petróleo por UF e produto\n",
        "2. Vendas de diesel por UF e tipo\n",
        "\n",
        "\n",
        "A tabela deve ter o seguinte formato (schema):\n",
        "* year_month: date\n",
        "* uf: string\n",
        "* product: string\n",
        "* unit: string\n",
        "* volume: double\n",
        "* created_at: timestamp\n"
      ]
    },
    {
      "cell_type": "code",
      "metadata": {
        "id": "wNorpiWIYq3s",
        "colab_type": "code",
        "colab": {
          "base_uri": "https://localhost:8080/",
          "height": 122
        },
        "outputId": "2f5feaa1-960a-40b9-eac2-7f97a159cd65"
      },
      "source": [
        "#libs necessarias para leitura de arquivos a partir do google drive\n",
        "from google.colab import drive\n",
        "drive.mount('/content/drive')"
      ],
      "execution_count": 2,
      "outputs": [
        {
          "output_type": "stream",
          "text": [
            "Go to this URL in a browser: https://accounts.google.com/o/oauth2/auth?client_id=947318989803-6bn6qk8qdgf4n4g3pfee6491hc0brc4i.apps.googleusercontent.com&redirect_uri=urn%3aietf%3awg%3aoauth%3a2.0%3aoob&scope=email%20https%3a%2f%2fwww.googleapis.com%2fauth%2fdocs.test%20https%3a%2f%2fwww.googleapis.com%2fauth%2fdrive%20https%3a%2f%2fwww.googleapis.com%2fauth%2fdrive.photos.readonly%20https%3a%2f%2fwww.googleapis.com%2fauth%2fpeopleapi.readonly&response_type=code\n",
            "\n",
            "Enter your authorization code:\n",
            "··········\n",
            "Mounted at /content/drive\n"
          ],
          "name": "stdout"
        }
      ]
    },
    {
      "cell_type": "code",
      "metadata": {
        "id": "tEjTH1Kcalid",
        "colab_type": "code",
        "colab": {}
      },
      "source": [
        "#importacao de libs usadas\n",
        "import pandas as pd\n",
        "import numpy as np\n",
        "import datetime\n",
        "from pandas.tseries.offsets import MonthEnd"
      ],
      "execution_count": 3,
      "outputs": []
    },
    {
      "cell_type": "code",
      "metadata": {
        "id": "BM9NOruUau5Y",
        "colab_type": "code",
        "colab": {}
      },
      "source": [
        "#caminho das pastas dos arquivos\n",
        "path_folder_tb1 = '/content/dados/tb1_vd_comb_uf_prod/'\n",
        "path_folder_tb2 = '/content/dados/tb2_vd_diesel_uf_tipo/'\n",
        "\n",
        "#nome dos arquivos\n",
        "path_files_tb1 = ['ETANOL HIDRATADO (m3).xlsx', 'GASOLINA C (m3).xlsx', 'GASOLINA DE AVIAÇÃO (m3).xlsx', 'GLP (m3).xlsx','ÓLEO COMBUSTÍVEL (m3).xlsx',\n",
        "                  'ÓLEO DIESEL (m3).xlsx','QUEROSENE DE AVIAÇÃO (m3).xlsx','QUEROSENE ILUMINANTE (m3).xlsx' ]\n",
        "\n",
        "path_files_tb2 = ['ÓLEO DIESEL (OUTROS ) (m3).xlsx','ÓLEO DIESEL MARÍTIMO (m3).xlsx','ÓLEO DIESEL S-10 (m3).xlsx','ÓLEO DIESEL S-500 (m3).xlsx','ÓLEO DIESEL S-1800 (m3).xlsx']\n",
        "\n",
        "list_sheet_names = ['ACRE', 'ALAGOAS','AMAPÁ','AMAZONAS','BAHIA','CEARÁ','DISTRITO FEDERAL','ESPÍRITO SANTO','GOIÁS','MARANHÃO','MATO GROSSO','MATO GROSSO DO SUL','MINAS GERAIS','PARÁ','PARAÍBA',\n",
        "                    'PARANÁ','PERNAMBUCO','PIAUÍ','RIO DE JANEIRO','RIO GRANDE DO NORTE','RIO GRANDE DO SUL','RONDÔNIA','RORAIMA','SANTA CATARINA','SÃO PAULO','SERGIPE','TOCANTINS']\n",
        "\n",
        "replace_values = {'Janeiro' : 'Jan', 'Fevereiro' : 'Feb', 'Março' : 'Mar', 'Abril': 'Apr', 'Maio': 'May', 'Junho': 'Jun', 'Julho': 'Jul', 'Agosto': 'Aug', 'Setembro': 'Sep', 'Outubro': 'Oct',\n",
        "                  'Novembro': 'Nov', 'Dezembro': 'Dec'}"
      ],
      "execution_count": 5,
      "outputs": []
    },
    {
      "cell_type": "code",
      "metadata": {
        "id": "tAzNbmO1cxPR",
        "colab_type": "code",
        "colab": {}
      },
      "source": [
        "'''\n",
        "Definicao de funcao para tratamento dos arquivos de entrada, paramentros:\n",
        "path_folder: caminho da pasta\n",
        "lst_path_file: lista com os nomes dos arquivos\n",
        "lst_sheet: lista com os nomes das planilhas a serem lidas\n",
        "replace_values: dicionario para replace de colunas\n",
        "'''\n",
        "\n",
        "def creatDF(path_folder, lst_path_file, lst_sheet, replace_values=replace_values):\n",
        "    all_data = pd.DataFrame()\n",
        "    for i in lst_path_file: #percorre a lista de arquivos\n",
        "        path = path_folder + i\n",
        "\n",
        "        for j in lst_sheet: #percorre a lista de planilhas\n",
        "          df = pd.read_excel(path, j, header=4, nrows=12)\n",
        "          df.rename(columns={'Dados':'Month'}, inplace=True)\n",
        "          df = df.replace({\"Month\": replace_values})  \n",
        "          df = pd.melt(df.reset_index(), id_vars=['Month'], var_name='Year', value_name='volume').sort_values(['Year','Month'], ascending=False) #transformacao de colunas em linhas\n",
        "          df = df[df.Year.str.contains(\"index\") == False]\n",
        "          #criacao de novas colunas\n",
        "          df['uf'] = j\n",
        "          df['product'] = i.split('.')[0]\n",
        "          product = i.split('.')[0]\n",
        "          df['unit'] = product.split('(')[1].replace(')','') \n",
        "          df['created_at'] = datetime.datetime.now()\n",
        "          df['year_month'] = df['Year'] + '-' + df['Month']\n",
        "\n",
        "          df.drop(columns=['Month', 'Year'], inplace=True) #exclusao de colunas\n",
        "          df = df.reindex(columns=['year_month', 'uf', 'product', 'unit', 'volume', 'created_at'])#reordenacao de colunas\n",
        "          \n",
        "          df['year_month'] = pd.to_datetime(df['year_month'], format=\"%Y-%b\") + MonthEnd(1)#conversao de tipos\n",
        "          all_data = all_data.append(df,ignore_index=True)\n",
        "    return(all_data) #retorna o dataframe com todos os dados\n",
        "\n"
      ],
      "execution_count": 6,
      "outputs": []
    },
    {
      "cell_type": "code",
      "metadata": {
        "id": "A2pjeZ1bolOB",
        "colab_type": "code",
        "colab": {}
      },
      "source": [
        "#Leitura dos arquivos\n",
        "\n",
        "#Vendas de combustiveis por UF e produto\n",
        "df_vd_comb_uf_prod = creatDF(path_folder_tb1, path_files_tb1, list_sheet_names)\n",
        "\n",
        "#Vendas de Diesel por UF e tipo\n",
        "df_vd_diesel_uf_tipo = creatDF(path_folder_tb2, path_files_tb2, list_sheet_names)\n"
      ],
      "execution_count": 11,
      "outputs": []
    },
    {
      "cell_type": "code",
      "metadata": {
        "id": "Jdg_K2UDqiUz",
        "colab_type": "code",
        "colab": {
          "base_uri": "https://localhost:8080/",
          "height": 419
        },
        "outputId": "ae82a404-98cf-40c0-ced8-9a8a8aba0ebc"
      },
      "source": [
        "#Vendas de combustiveis por UF e produto\n",
        "display(df_vd_comb_uf_prod)"
      ],
      "execution_count": 12,
      "outputs": [
        {
          "output_type": "display_data",
          "data": {
            "text/html": [
              "<div>\n",
              "<style scoped>\n",
              "    .dataframe tbody tr th:only-of-type {\n",
              "        vertical-align: middle;\n",
              "    }\n",
              "\n",
              "    .dataframe tbody tr th {\n",
              "        vertical-align: top;\n",
              "    }\n",
              "\n",
              "    .dataframe thead th {\n",
              "        text-align: right;\n",
              "    }\n",
              "</style>\n",
              "<table border=\"1\" class=\"dataframe\">\n",
              "  <thead>\n",
              "    <tr style=\"text-align: right;\">\n",
              "      <th></th>\n",
              "      <th>year_month</th>\n",
              "      <th>uf</th>\n",
              "      <th>product</th>\n",
              "      <th>unit</th>\n",
              "      <th>volume</th>\n",
              "      <th>created_at</th>\n",
              "    </tr>\n",
              "  </thead>\n",
              "  <tbody>\n",
              "    <tr>\n",
              "      <th>0</th>\n",
              "      <td>2016-09-30</td>\n",
              "      <td>ACRE</td>\n",
              "      <td>ETANOL HIDRATADO (m3)</td>\n",
              "      <td>m3</td>\n",
              "      <td>710.0</td>\n",
              "      <td>2020-09-08 06:37:14.780999</td>\n",
              "    </tr>\n",
              "    <tr>\n",
              "      <th>1</th>\n",
              "      <td>2016-10-31</td>\n",
              "      <td>ACRE</td>\n",
              "      <td>ETANOL HIDRATADO (m3)</td>\n",
              "      <td>m3</td>\n",
              "      <td>917.0</td>\n",
              "      <td>2020-09-08 06:37:14.780999</td>\n",
              "    </tr>\n",
              "    <tr>\n",
              "      <th>2</th>\n",
              "      <td>2016-11-30</td>\n",
              "      <td>ACRE</td>\n",
              "      <td>ETANOL HIDRATADO (m3)</td>\n",
              "      <td>m3</td>\n",
              "      <td>639.8</td>\n",
              "      <td>2020-09-08 06:37:14.780999</td>\n",
              "    </tr>\n",
              "    <tr>\n",
              "      <th>3</th>\n",
              "      <td>2016-05-31</td>\n",
              "      <td>ACRE</td>\n",
              "      <td>ETANOL HIDRATADO (m3)</td>\n",
              "      <td>m3</td>\n",
              "      <td>473.0</td>\n",
              "      <td>2020-09-08 06:37:14.780999</td>\n",
              "    </tr>\n",
              "    <tr>\n",
              "      <th>4</th>\n",
              "      <td>2016-03-31</td>\n",
              "      <td>ACRE</td>\n",
              "      <td>ETANOL HIDRATADO (m3)</td>\n",
              "      <td>m3</td>\n",
              "      <td>620.5</td>\n",
              "      <td>2020-09-08 06:37:14.780999</td>\n",
              "    </tr>\n",
              "    <tr>\n",
              "      <th>...</th>\n",
              "      <td>...</td>\n",
              "      <td>...</td>\n",
              "      <td>...</td>\n",
              "      <td>...</td>\n",
              "      <td>...</td>\n",
              "      <td>...</td>\n",
              "    </tr>\n",
              "    <tr>\n",
              "      <th>2587</th>\n",
              "      <td>2016-01-31</td>\n",
              "      <td>TOCANTINS</td>\n",
              "      <td>QUEROSENE ILUMINANTE (m3)</td>\n",
              "      <td>m3</td>\n",
              "      <td>0.0</td>\n",
              "      <td>2020-09-08 06:37:41.312626</td>\n",
              "    </tr>\n",
              "    <tr>\n",
              "      <th>2588</th>\n",
              "      <td>2016-02-29</td>\n",
              "      <td>TOCANTINS</td>\n",
              "      <td>QUEROSENE ILUMINANTE (m3)</td>\n",
              "      <td>m3</td>\n",
              "      <td>0.0</td>\n",
              "      <td>2020-09-08 06:37:41.312626</td>\n",
              "    </tr>\n",
              "    <tr>\n",
              "      <th>2589</th>\n",
              "      <td>2016-12-31</td>\n",
              "      <td>TOCANTINS</td>\n",
              "      <td>QUEROSENE ILUMINANTE (m3)</td>\n",
              "      <td>m3</td>\n",
              "      <td>0.0</td>\n",
              "      <td>2020-09-08 06:37:41.312626</td>\n",
              "    </tr>\n",
              "    <tr>\n",
              "      <th>2590</th>\n",
              "      <td>2016-08-31</td>\n",
              "      <td>TOCANTINS</td>\n",
              "      <td>QUEROSENE ILUMINANTE (m3)</td>\n",
              "      <td>m3</td>\n",
              "      <td>0.0</td>\n",
              "      <td>2020-09-08 06:37:41.312626</td>\n",
              "    </tr>\n",
              "    <tr>\n",
              "      <th>2591</th>\n",
              "      <td>2016-04-30</td>\n",
              "      <td>TOCANTINS</td>\n",
              "      <td>QUEROSENE ILUMINANTE (m3)</td>\n",
              "      <td>m3</td>\n",
              "      <td>0.0</td>\n",
              "      <td>2020-09-08 06:37:41.312626</td>\n",
              "    </tr>\n",
              "  </tbody>\n",
              "</table>\n",
              "<p>2592 rows × 6 columns</p>\n",
              "</div>"
            ],
            "text/plain": [
              "     year_month         uf  ... volume                 created_at\n",
              "0    2016-09-30       ACRE  ...  710.0 2020-09-08 06:37:14.780999\n",
              "1    2016-10-31       ACRE  ...  917.0 2020-09-08 06:37:14.780999\n",
              "2    2016-11-30       ACRE  ...  639.8 2020-09-08 06:37:14.780999\n",
              "3    2016-05-31       ACRE  ...  473.0 2020-09-08 06:37:14.780999\n",
              "4    2016-03-31       ACRE  ...  620.5 2020-09-08 06:37:14.780999\n",
              "...         ...        ...  ...    ...                        ...\n",
              "2587 2016-01-31  TOCANTINS  ...    0.0 2020-09-08 06:37:41.312626\n",
              "2588 2016-02-29  TOCANTINS  ...    0.0 2020-09-08 06:37:41.312626\n",
              "2589 2016-12-31  TOCANTINS  ...    0.0 2020-09-08 06:37:41.312626\n",
              "2590 2016-08-31  TOCANTINS  ...    0.0 2020-09-08 06:37:41.312626\n",
              "2591 2016-04-30  TOCANTINS  ...    0.0 2020-09-08 06:37:41.312626\n",
              "\n",
              "[2592 rows x 6 columns]"
            ]
          },
          "metadata": {
            "tags": []
          }
        }
      ]
    },
    {
      "cell_type": "code",
      "metadata": {
        "id": "n-Bgb5sMcKO_",
        "colab_type": "code",
        "colab": {
          "base_uri": "https://localhost:8080/",
          "height": 51
        },
        "outputId": "e1964adb-085a-4c05-cca8-c91a6eabb420"
      },
      "source": [
        "print(len(df_vd_comb_uf_prod['uf'].unique())) # 27 valor correto\n",
        "print(len(df_vd_comb_uf_prod['product'].unique())) #8 valor correto\n",
        "\n"
      ],
      "execution_count": 17,
      "outputs": [
        {
          "output_type": "stream",
          "text": [
            "27\n",
            "8\n"
          ],
          "name": "stdout"
        }
      ]
    },
    {
      "cell_type": "code",
      "metadata": {
        "id": "q2uXgdH9b-tl",
        "colab_type": "code",
        "colab": {
          "base_uri": "https://localhost:8080/",
          "height": 419
        },
        "outputId": "7ad30f93-1e7a-40be-b6b4-ba7ba81ec1f4"
      },
      "source": [
        "#Vendas de Diesel por UF e tipo\n",
        "display(df_vd_diesel_uf_tipo)"
      ],
      "execution_count": 18,
      "outputs": [
        {
          "output_type": "display_data",
          "data": {
            "text/html": [
              "<div>\n",
              "<style scoped>\n",
              "    .dataframe tbody tr th:only-of-type {\n",
              "        vertical-align: middle;\n",
              "    }\n",
              "\n",
              "    .dataframe tbody tr th {\n",
              "        vertical-align: top;\n",
              "    }\n",
              "\n",
              "    .dataframe thead th {\n",
              "        text-align: right;\n",
              "    }\n",
              "</style>\n",
              "<table border=\"1\" class=\"dataframe\">\n",
              "  <thead>\n",
              "    <tr style=\"text-align: right;\">\n",
              "      <th></th>\n",
              "      <th>year_month</th>\n",
              "      <th>uf</th>\n",
              "      <th>product</th>\n",
              "      <th>unit</th>\n",
              "      <th>volume</th>\n",
              "      <th>created_at</th>\n",
              "    </tr>\n",
              "  </thead>\n",
              "  <tbody>\n",
              "    <tr>\n",
              "      <th>0</th>\n",
              "      <td>2016-09-30</td>\n",
              "      <td>ACRE</td>\n",
              "      <td>ÓLEO DIESEL (OUTROS ) (m3)</td>\n",
              "      <td>OUTROS</td>\n",
              "      <td>0.0</td>\n",
              "      <td>2020-09-08 06:37:41.437822</td>\n",
              "    </tr>\n",
              "    <tr>\n",
              "      <th>1</th>\n",
              "      <td>2016-10-31</td>\n",
              "      <td>ACRE</td>\n",
              "      <td>ÓLEO DIESEL (OUTROS ) (m3)</td>\n",
              "      <td>OUTROS</td>\n",
              "      <td>0.0</td>\n",
              "      <td>2020-09-08 06:37:41.437822</td>\n",
              "    </tr>\n",
              "    <tr>\n",
              "      <th>2</th>\n",
              "      <td>2016-11-30</td>\n",
              "      <td>ACRE</td>\n",
              "      <td>ÓLEO DIESEL (OUTROS ) (m3)</td>\n",
              "      <td>OUTROS</td>\n",
              "      <td>0.0</td>\n",
              "      <td>2020-09-08 06:37:41.437822</td>\n",
              "    </tr>\n",
              "    <tr>\n",
              "      <th>3</th>\n",
              "      <td>2016-05-31</td>\n",
              "      <td>ACRE</td>\n",
              "      <td>ÓLEO DIESEL (OUTROS ) (m3)</td>\n",
              "      <td>OUTROS</td>\n",
              "      <td>0.0</td>\n",
              "      <td>2020-09-08 06:37:41.437822</td>\n",
              "    </tr>\n",
              "    <tr>\n",
              "      <th>4</th>\n",
              "      <td>2016-03-31</td>\n",
              "      <td>ACRE</td>\n",
              "      <td>ÓLEO DIESEL (OUTROS ) (m3)</td>\n",
              "      <td>OUTROS</td>\n",
              "      <td>0.0</td>\n",
              "      <td>2020-09-08 06:37:41.437822</td>\n",
              "    </tr>\n",
              "    <tr>\n",
              "      <th>...</th>\n",
              "      <td>...</td>\n",
              "      <td>...</td>\n",
              "      <td>...</td>\n",
              "      <td>...</td>\n",
              "      <td>...</td>\n",
              "      <td>...</td>\n",
              "    </tr>\n",
              "    <tr>\n",
              "      <th>1615</th>\n",
              "      <td>2016-01-31</td>\n",
              "      <td>TOCANTINS</td>\n",
              "      <td>ÓLEO DIESEL S-1800 (m3)</td>\n",
              "      <td>m3</td>\n",
              "      <td>0.0</td>\n",
              "      <td>2020-09-08 06:37:51.298825</td>\n",
              "    </tr>\n",
              "    <tr>\n",
              "      <th>1616</th>\n",
              "      <td>2016-02-29</td>\n",
              "      <td>TOCANTINS</td>\n",
              "      <td>ÓLEO DIESEL S-1800 (m3)</td>\n",
              "      <td>m3</td>\n",
              "      <td>0.0</td>\n",
              "      <td>2020-09-08 06:37:51.298825</td>\n",
              "    </tr>\n",
              "    <tr>\n",
              "      <th>1617</th>\n",
              "      <td>2016-12-31</td>\n",
              "      <td>TOCANTINS</td>\n",
              "      <td>ÓLEO DIESEL S-1800 (m3)</td>\n",
              "      <td>m3</td>\n",
              "      <td>0.0</td>\n",
              "      <td>2020-09-08 06:37:51.298825</td>\n",
              "    </tr>\n",
              "    <tr>\n",
              "      <th>1618</th>\n",
              "      <td>2016-08-31</td>\n",
              "      <td>TOCANTINS</td>\n",
              "      <td>ÓLEO DIESEL S-1800 (m3)</td>\n",
              "      <td>m3</td>\n",
              "      <td>0.0</td>\n",
              "      <td>2020-09-08 06:37:51.298825</td>\n",
              "    </tr>\n",
              "    <tr>\n",
              "      <th>1619</th>\n",
              "      <td>2016-04-30</td>\n",
              "      <td>TOCANTINS</td>\n",
              "      <td>ÓLEO DIESEL S-1800 (m3)</td>\n",
              "      <td>m3</td>\n",
              "      <td>0.0</td>\n",
              "      <td>2020-09-08 06:37:51.298825</td>\n",
              "    </tr>\n",
              "  </tbody>\n",
              "</table>\n",
              "<p>1620 rows × 6 columns</p>\n",
              "</div>"
            ],
            "text/plain": [
              "     year_month         uf  ... volume                 created_at\n",
              "0    2016-09-30       ACRE  ...    0.0 2020-09-08 06:37:41.437822\n",
              "1    2016-10-31       ACRE  ...    0.0 2020-09-08 06:37:41.437822\n",
              "2    2016-11-30       ACRE  ...    0.0 2020-09-08 06:37:41.437822\n",
              "3    2016-05-31       ACRE  ...    0.0 2020-09-08 06:37:41.437822\n",
              "4    2016-03-31       ACRE  ...    0.0 2020-09-08 06:37:41.437822\n",
              "...         ...        ...  ...    ...                        ...\n",
              "1615 2016-01-31  TOCANTINS  ...    0.0 2020-09-08 06:37:51.298825\n",
              "1616 2016-02-29  TOCANTINS  ...    0.0 2020-09-08 06:37:51.298825\n",
              "1617 2016-12-31  TOCANTINS  ...    0.0 2020-09-08 06:37:51.298825\n",
              "1618 2016-08-31  TOCANTINS  ...    0.0 2020-09-08 06:37:51.298825\n",
              "1619 2016-04-30  TOCANTINS  ...    0.0 2020-09-08 06:37:51.298825\n",
              "\n",
              "[1620 rows x 6 columns]"
            ]
          },
          "metadata": {
            "tags": []
          }
        }
      ]
    },
    {
      "cell_type": "code",
      "metadata": {
        "id": "EQQYYy6-dKKm",
        "colab_type": "code",
        "colab": {
          "base_uri": "https://localhost:8080/",
          "height": 51
        },
        "outputId": "05ecf7fb-e386-4b74-c047-e90e223f52b2"
      },
      "source": [
        "print(len(df_vd_diesel_uf_tipo['uf'].unique())) # 27 valor correto\n",
        "print(len(df_vd_diesel_uf_tipo['product'].unique())) # 5 valor correto"
      ],
      "execution_count": 19,
      "outputs": [
        {
          "output_type": "stream",
          "text": [
            "27\n",
            "5\n"
          ],
          "name": "stdout"
        }
      ]
    },
    {
      "cell_type": "code",
      "metadata": {
        "id": "eJZUXj61rals",
        "colab_type": "code",
        "colab": {
          "base_uri": "https://localhost:8080/",
          "height": 238
        },
        "outputId": "66ea5f7a-5dd8-47c7-e325-7de7fc3b5a62"
      },
      "source": [
        "df_vd_diesel_uf_tipo.info()"
      ],
      "execution_count": 20,
      "outputs": [
        {
          "output_type": "stream",
          "text": [
            "<class 'pandas.core.frame.DataFrame'>\n",
            "RangeIndex: 1620 entries, 0 to 1619\n",
            "Data columns (total 6 columns):\n",
            " #   Column      Non-Null Count  Dtype         \n",
            "---  ------      --------------  -----         \n",
            " 0   year_month  1620 non-null   datetime64[ns]\n",
            " 1   uf          1620 non-null   object        \n",
            " 2   product     1620 non-null   object        \n",
            " 3   unit        1620 non-null   object        \n",
            " 4   volume      1620 non-null   float64       \n",
            " 5   created_at  1620 non-null   datetime64[ns]\n",
            "dtypes: datetime64[ns](2), float64(1), object(3)\n",
            "memory usage: 76.1+ KB\n"
          ],
          "name": "stdout"
        }
      ]
    },
    {
      "cell_type": "code",
      "metadata": {
        "id": "33kxfTh-rc9F",
        "colab_type": "code",
        "colab": {
          "base_uri": "https://localhost:8080/",
          "height": 238
        },
        "outputId": "f84ae8cb-8694-450d-bac6-faf987af21e6"
      },
      "source": [
        "df_vd_comb_uf_prod.info()"
      ],
      "execution_count": 21,
      "outputs": [
        {
          "output_type": "stream",
          "text": [
            "<class 'pandas.core.frame.DataFrame'>\n",
            "RangeIndex: 2592 entries, 0 to 2591\n",
            "Data columns (total 6 columns):\n",
            " #   Column      Non-Null Count  Dtype         \n",
            "---  ------      --------------  -----         \n",
            " 0   year_month  2592 non-null   datetime64[ns]\n",
            " 1   uf          2592 non-null   object        \n",
            " 2   product     2592 non-null   object        \n",
            " 3   unit        2592 non-null   object        \n",
            " 4   volume      2592 non-null   float64       \n",
            " 5   created_at  2592 non-null   datetime64[ns]\n",
            "dtypes: datetime64[ns](2), float64(1), object(3)\n",
            "memory usage: 121.6+ KB\n"
          ],
          "name": "stdout"
        }
      ]
    },
    {
      "cell_type": "code",
      "metadata": {
        "id": "bvu99SFgfYv7",
        "colab_type": "code",
        "colab": {}
      },
      "source": [
        "df_data_files = pd.DataFrame()\n",
        "#uniao dos dataframes/dados\n",
        "df_data_files = df_data_files.append(df_vd_comb_uf_prod, ignore_index=True)\n",
        "df_data_files = df_data_files.append(df_vd_diesel_uf_tipo,ignore_index=True)"
      ],
      "execution_count": 22,
      "outputs": []
    },
    {
      "cell_type": "code",
      "metadata": {
        "id": "EbzZK5HrhX4L",
        "colab_type": "code",
        "colab": {
          "base_uri": "https://localhost:8080/",
          "height": 419
        },
        "outputId": "063622c8-ea33-4bc3-ea30-aec6b9caf852"
      },
      "source": [
        "display(df_data_files)"
      ],
      "execution_count": 23,
      "outputs": [
        {
          "output_type": "display_data",
          "data": {
            "text/html": [
              "<div>\n",
              "<style scoped>\n",
              "    .dataframe tbody tr th:only-of-type {\n",
              "        vertical-align: middle;\n",
              "    }\n",
              "\n",
              "    .dataframe tbody tr th {\n",
              "        vertical-align: top;\n",
              "    }\n",
              "\n",
              "    .dataframe thead th {\n",
              "        text-align: right;\n",
              "    }\n",
              "</style>\n",
              "<table border=\"1\" class=\"dataframe\">\n",
              "  <thead>\n",
              "    <tr style=\"text-align: right;\">\n",
              "      <th></th>\n",
              "      <th>year_month</th>\n",
              "      <th>uf</th>\n",
              "      <th>product</th>\n",
              "      <th>unit</th>\n",
              "      <th>volume</th>\n",
              "      <th>created_at</th>\n",
              "    </tr>\n",
              "  </thead>\n",
              "  <tbody>\n",
              "    <tr>\n",
              "      <th>0</th>\n",
              "      <td>2016-09-30</td>\n",
              "      <td>ACRE</td>\n",
              "      <td>ETANOL HIDRATADO (m3)</td>\n",
              "      <td>m3</td>\n",
              "      <td>710.0</td>\n",
              "      <td>2020-09-08 06:37:14.780999</td>\n",
              "    </tr>\n",
              "    <tr>\n",
              "      <th>1</th>\n",
              "      <td>2016-10-31</td>\n",
              "      <td>ACRE</td>\n",
              "      <td>ETANOL HIDRATADO (m3)</td>\n",
              "      <td>m3</td>\n",
              "      <td>917.0</td>\n",
              "      <td>2020-09-08 06:37:14.780999</td>\n",
              "    </tr>\n",
              "    <tr>\n",
              "      <th>2</th>\n",
              "      <td>2016-11-30</td>\n",
              "      <td>ACRE</td>\n",
              "      <td>ETANOL HIDRATADO (m3)</td>\n",
              "      <td>m3</td>\n",
              "      <td>639.8</td>\n",
              "      <td>2020-09-08 06:37:14.780999</td>\n",
              "    </tr>\n",
              "    <tr>\n",
              "      <th>3</th>\n",
              "      <td>2016-05-31</td>\n",
              "      <td>ACRE</td>\n",
              "      <td>ETANOL HIDRATADO (m3)</td>\n",
              "      <td>m3</td>\n",
              "      <td>473.0</td>\n",
              "      <td>2020-09-08 06:37:14.780999</td>\n",
              "    </tr>\n",
              "    <tr>\n",
              "      <th>4</th>\n",
              "      <td>2016-03-31</td>\n",
              "      <td>ACRE</td>\n",
              "      <td>ETANOL HIDRATADO (m3)</td>\n",
              "      <td>m3</td>\n",
              "      <td>620.5</td>\n",
              "      <td>2020-09-08 06:37:14.780999</td>\n",
              "    </tr>\n",
              "    <tr>\n",
              "      <th>...</th>\n",
              "      <td>...</td>\n",
              "      <td>...</td>\n",
              "      <td>...</td>\n",
              "      <td>...</td>\n",
              "      <td>...</td>\n",
              "      <td>...</td>\n",
              "    </tr>\n",
              "    <tr>\n",
              "      <th>4207</th>\n",
              "      <td>2016-01-31</td>\n",
              "      <td>TOCANTINS</td>\n",
              "      <td>ÓLEO DIESEL S-1800 (m3)</td>\n",
              "      <td>m3</td>\n",
              "      <td>0.0</td>\n",
              "      <td>2020-09-08 06:37:51.298825</td>\n",
              "    </tr>\n",
              "    <tr>\n",
              "      <th>4208</th>\n",
              "      <td>2016-02-29</td>\n",
              "      <td>TOCANTINS</td>\n",
              "      <td>ÓLEO DIESEL S-1800 (m3)</td>\n",
              "      <td>m3</td>\n",
              "      <td>0.0</td>\n",
              "      <td>2020-09-08 06:37:51.298825</td>\n",
              "    </tr>\n",
              "    <tr>\n",
              "      <th>4209</th>\n",
              "      <td>2016-12-31</td>\n",
              "      <td>TOCANTINS</td>\n",
              "      <td>ÓLEO DIESEL S-1800 (m3)</td>\n",
              "      <td>m3</td>\n",
              "      <td>0.0</td>\n",
              "      <td>2020-09-08 06:37:51.298825</td>\n",
              "    </tr>\n",
              "    <tr>\n",
              "      <th>4210</th>\n",
              "      <td>2016-08-31</td>\n",
              "      <td>TOCANTINS</td>\n",
              "      <td>ÓLEO DIESEL S-1800 (m3)</td>\n",
              "      <td>m3</td>\n",
              "      <td>0.0</td>\n",
              "      <td>2020-09-08 06:37:51.298825</td>\n",
              "    </tr>\n",
              "    <tr>\n",
              "      <th>4211</th>\n",
              "      <td>2016-04-30</td>\n",
              "      <td>TOCANTINS</td>\n",
              "      <td>ÓLEO DIESEL S-1800 (m3)</td>\n",
              "      <td>m3</td>\n",
              "      <td>0.0</td>\n",
              "      <td>2020-09-08 06:37:51.298825</td>\n",
              "    </tr>\n",
              "  </tbody>\n",
              "</table>\n",
              "<p>4212 rows × 6 columns</p>\n",
              "</div>"
            ],
            "text/plain": [
              "     year_month         uf  ... volume                 created_at\n",
              "0    2016-09-30       ACRE  ...  710.0 2020-09-08 06:37:14.780999\n",
              "1    2016-10-31       ACRE  ...  917.0 2020-09-08 06:37:14.780999\n",
              "2    2016-11-30       ACRE  ...  639.8 2020-09-08 06:37:14.780999\n",
              "3    2016-05-31       ACRE  ...  473.0 2020-09-08 06:37:14.780999\n",
              "4    2016-03-31       ACRE  ...  620.5 2020-09-08 06:37:14.780999\n",
              "...         ...        ...  ...    ...                        ...\n",
              "4207 2016-01-31  TOCANTINS  ...    0.0 2020-09-08 06:37:51.298825\n",
              "4208 2016-02-29  TOCANTINS  ...    0.0 2020-09-08 06:37:51.298825\n",
              "4209 2016-12-31  TOCANTINS  ...    0.0 2020-09-08 06:37:51.298825\n",
              "4210 2016-08-31  TOCANTINS  ...    0.0 2020-09-08 06:37:51.298825\n",
              "4211 2016-04-30  TOCANTINS  ...    0.0 2020-09-08 06:37:51.298825\n",
              "\n",
              "[4212 rows x 6 columns]"
            ]
          },
          "metadata": {
            "tags": []
          }
        }
      ]
    },
    {
      "cell_type": "code",
      "metadata": {
        "id": "RFOKMRnPhhzl",
        "colab_type": "code",
        "colab": {
          "base_uri": "https://localhost:8080/",
          "height": 34
        },
        "outputId": "d7094970-3595-49b9-b5b7-ab7fa1e544a4"
      },
      "source": [
        "len(df_data_files['product'].unique()) #13 valor correto"
      ],
      "execution_count": 26,
      "outputs": [
        {
          "output_type": "execute_result",
          "data": {
            "text/plain": [
              "13"
            ]
          },
          "metadata": {
            "tags": []
          },
          "execution_count": 26
        }
      ]
    },
    {
      "cell_type": "markdown",
      "metadata": {
        "id": "D_Kh4bFCi3MC",
        "colab_type": "text"
      },
      "source": [
        "Parte II"
      ]
    },
    {
      "cell_type": "code",
      "metadata": {
        "id": "Gs3ASPRWi7DS",
        "colab_type": "code",
        "colab": {
          "base_uri": "https://localhost:8080/",
          "height": 34
        },
        "outputId": "0bfdbeec-9c9b-4fe4-8d41-40e0187255eb"
      },
      "source": [
        "\n",
        "#Configuracao do Spark no Google Colab\n",
        "\n",
        "\n",
        "# Run below commands in google colab\n",
        "# install Java8\n",
        "!apt-get install openjdk-8-jdk-headless -qq > /dev/null\n",
        "# download spark3.0.0\n",
        "!wget -q https://downloads.apache.org/spark/spark-3.0.1/spark-3.0.1-bin-hadoop2.7.tgz\n",
        "# unzip it\n",
        "!tar xf spark-3.0.1-bin-hadoop2.7.tgz\n",
        "# install findspark \n",
        "!pip install -q findspark\n",
        "\n",
        "#Set Environment Variables\n",
        "import os\n",
        "os.environ[\"JAVA_HOME\"] = \"/usr/lib/jvm/java-8-openjdk-amd64\"\n",
        "os.environ[\"SPARK_HOME\"] = \"/content/spark-3.0.1-bin-hadoop2.7\"\n",
        "\n",
        "import findspark\n",
        "findspark.init()\n",
        "\n",
        "\n",
        "# Check the pyspark version\n",
        "import pyspark\n",
        "print(pyspark.__version__)\n"
      ],
      "execution_count": 46,
      "outputs": [
        {
          "output_type": "stream",
          "text": [
            "3.0.1\n"
          ],
          "name": "stdout"
        }
      ]
    },
    {
      "cell_type": "code",
      "metadata": {
        "id": "O2Dn1hg0nnPk",
        "colab_type": "code",
        "colab": {}
      },
      "source": [
        "from pyspark.sql.types import *\n",
        "from pyspark.sql import SparkSession\n",
        "\n",
        "spark = SparkSession.builder.appName('ETL Pipeline').master(\"local[*]\").getOrCreate()"
      ],
      "execution_count": 51,
      "outputs": []
    },
    {
      "cell_type": "code",
      "metadata": {
        "id": "DPrXZwBtowEj",
        "colab_type": "code",
        "colab": {}
      },
      "source": [
        "#definicao do schema e tipos de dados a serem lidos\n",
        "schema = StructType([StructField('year_month',DateType(),True),StructField('uf',StringType(),True),StructField('product',StringType(),True),StructField('unit',StringType(),True),\n",
        "    StructField('volume',DoubleType(),True),StructField('created_at',TimestampType(),True)])"
      ],
      "execution_count": 52,
      "outputs": []
    },
    {
      "cell_type": "code",
      "metadata": {
        "id": "vLIGg8i4oNGj",
        "colab_type": "code",
        "colab": {}
      },
      "source": [
        "df_spark = spark.createDataFrame(df_data_files, schema= schema)"
      ],
      "execution_count": 53,
      "outputs": []
    },
    {
      "cell_type": "code",
      "metadata": {
        "id": "omeFaOFDpr4H",
        "colab_type": "code",
        "colab": {
          "base_uri": "https://localhost:8080/",
          "height": 34
        },
        "outputId": "d8b3c0b8-250a-4d0a-e6f1-8cff4e561645"
      },
      "source": [
        "display(df_spark)"
      ],
      "execution_count": 54,
      "outputs": [
        {
          "output_type": "display_data",
          "data": {
            "text/plain": [
              "DataFrame[year_month: date, uf: string, product: string, unit: string, volume: double, created_at: timestamp]"
            ]
          },
          "metadata": {
            "tags": []
          }
        }
      ]
    },
    {
      "cell_type": "code",
      "metadata": {
        "id": "vTC7emaRqP96",
        "colab_type": "code",
        "colab": {
          "base_uri": "https://localhost:8080/",
          "height": 153
        },
        "outputId": "ca92308a-40c1-4fc4-8ca8-0e75085a1aa4"
      },
      "source": [
        "df_spark.printSchema()"
      ],
      "execution_count": 57,
      "outputs": [
        {
          "output_type": "stream",
          "text": [
            "root\n",
            " |-- year_month: date (nullable = true)\n",
            " |-- uf: string (nullable = true)\n",
            " |-- product: string (nullable = true)\n",
            " |-- unit: string (nullable = true)\n",
            " |-- volume: double (nullable = true)\n",
            " |-- created_at: timestamp (nullable = true)\n",
            "\n"
          ],
          "name": "stdout"
        }
      ]
    },
    {
      "cell_type": "code",
      "metadata": {
        "id": "EYMi5Rscp2iF",
        "colab_type": "code",
        "colab": {
          "base_uri": "https://localhost:8080/",
          "height": 289
        },
        "outputId": "61af576b-748e-4279-c164-4de4d93f4695"
      },
      "source": [
        "df_spark.show(n=10)"
      ],
      "execution_count": 56,
      "outputs": [
        {
          "output_type": "stream",
          "text": [
            "+----------+----+--------------------+----+------+--------------------+\n",
            "|year_month|  uf|             product|unit|volume|          created_at|\n",
            "+----------+----+--------------------+----+------+--------------------+\n",
            "|2016-09-30|ACRE|ETANOL HIDRATADO ...|  m3| 710.0|2020-09-08 06:37:...|\n",
            "|2016-10-31|ACRE|ETANOL HIDRATADO ...|  m3| 917.0|2020-09-08 06:37:...|\n",
            "|2016-11-30|ACRE|ETANOL HIDRATADO ...|  m3| 639.8|2020-09-08 06:37:...|\n",
            "|2016-05-31|ACRE|ETANOL HIDRATADO ...|  m3| 473.0|2020-09-08 06:37:...|\n",
            "|2016-03-31|ACRE|ETANOL HIDRATADO ...|  m3| 620.5|2020-09-08 06:37:...|\n",
            "|2016-06-30|ACRE|ETANOL HIDRATADO ...|  m3| 470.0|2020-09-08 06:37:...|\n",
            "|2016-07-31|ACRE|ETANOL HIDRATADO ...|  m3| 462.5|2020-09-08 06:37:...|\n",
            "|2016-01-31|ACRE|ETANOL HIDRATADO ...|  m3| 799.0|2020-09-08 06:37:...|\n",
            "|2016-02-29|ACRE|ETANOL HIDRATADO ...|  m3| 673.5|2020-09-08 06:37:...|\n",
            "|2016-12-31|ACRE|ETANOL HIDRATADO ...|  m3| 676.8|2020-09-08 06:37:...|\n",
            "+----------+----+--------------------+----+------+--------------------+\n",
            "only showing top 10 rows\n",
            "\n"
          ],
          "name": "stdout"
        }
      ]
    },
    {
      "cell_type": "code",
      "metadata": {
        "id": "YTuPmYLnqZ8b",
        "colab_type": "code",
        "colab": {
          "base_uri": "https://localhost:8080/",
          "height": 51
        },
        "outputId": "1276e5f7-4e10-45a2-fab4-c31b01c14eb8"
      },
      "source": [
        "print('Número de linhas no Dataframe Pandas: {0}'.format(len(df_data_files.index)))\n",
        "print('Número de linhas no Dataframe Spark: {0}'.format(df_spark.count()))"
      ],
      "execution_count": 65,
      "outputs": [
        {
          "output_type": "stream",
          "text": [
            "Número de linhas no Dataframe Pandas: 4212\n",
            "Número de linhas no Dataframe Spark: 4212\n"
          ],
          "name": "stdout"
        }
      ]
    },
    {
      "cell_type": "code",
      "metadata": {
        "id": "D9uHuO88wKme",
        "colab_type": "code",
        "colab": {}
      },
      "source": [
        "df = df_spark\n",
        "\n",
        "df.write.partitionBy('product')\\\n",
        "  .mode('append')\\\n",
        "  .csv('content/dados', header=True)"
      ],
      "execution_count": 72,
      "outputs": []
    }
  ]
}